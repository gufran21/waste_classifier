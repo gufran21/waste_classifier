{
 "cells": [
  {
   "cell_type": "code",
   "execution_count": null,
   "metadata": {
    "colab": {
     "base_uri": "https://localhost:8080/"
    },
    "executionInfo": {
     "elapsed": 8,
     "status": "ok",
     "timestamp": 1694082765128,
     "user": {
      "displayName": "21COB201 Gufran Ahmad",
      "userId": "06071933514359035626"
     },
     "user_tz": -330
    },
    "id": "g81k_2VplRgv",
    "outputId": "ae0cb280-a320-4f35-f821-17c33aea33cd"
   },
   "outputs": [],
   "source": [
    "!nvidia-smi"
   ]
  },
  {
   "cell_type": "code",
   "execution_count": null,
   "metadata": {
    "colab": {
     "base_uri": "https://localhost:8080/"
    },
    "executionInfo": {
     "elapsed": 5651,
     "status": "ok",
     "timestamp": 1694082770777,
     "user": {
      "displayName": "21COB201 Gufran Ahmad",
      "userId": "06071933514359035626"
     },
     "user_tz": -330
    },
    "id": "0ba5b5e8-5b3f-4497-bbe8-56365c6d4658",
    "outputId": "0b8499e4-914a-4614-9a35-74133da2804f",
    "tags": []
   },
   "outputs": [],
   "source": [
    "!pip install tensorflow==2.13.0 opencv-python matplotlib"
   ]
  },
  {
   "cell_type": "code",
   "execution_count": null,
   "metadata": {
    "id": "1bKD0yYk5XsA"
   },
   "outputs": [],
   "source": []
  },
  {
   "cell_type": "code",
   "execution_count": null,
   "metadata": {
    "colab": {
     "base_uri": "https://localhost:8080/"
    },
    "executionInfo": {
     "elapsed": 1751,
     "status": "ok",
     "timestamp": 1694203704592,
     "user": {
      "displayName": "Gufran Ahmad",
      "userId": "01837238252185528916"
     },
     "user_tz": -330
    },
    "id": "97eee763-313f-4a28-9c75-2d098833fe26",
    "outputId": "175f2870-95e6-4073-dea5-ca245530156e"
   },
   "outputs": [],
   "source": []
  },
  {
   "cell_type": "code",
   "execution_count": null,
   "metadata": {
    "id": "OnwPt_bsSsZQ",
    "outputId": "02b9579d-49ae-4894-e41d-bfa3cf67df1d"
   },
   "outputs": [],
   "source": []
  },
  {
   "cell_type": "code",
   "execution_count": null,
   "metadata": {
    "id": "29b8402a-849b-4041-85bd-da8cf7ad5af0",
    "tags": []
   },
   "outputs": [],
   "source": [
    "import tensorflow as tf\n",
    "import os"
   ]
  },
  {
   "cell_type": "code",
   "execution_count": null,
   "metadata": {
    "colab": {
     "base_uri": "https://localhost:8080/"
    },
    "executionInfo": {
     "elapsed": 48224,
     "status": "ok",
     "timestamp": 1694845733765,
     "user": {
      "displayName": "Gufran Ahmad",
      "userId": "01837238252185528916"
     },
     "user_tz": -330
    },
    "id": "VSSOl4OCHshh",
    "outputId": "c77d6bc3-67f0-4cc8-a997-cbfafba18917",
    "tags": []
   },
   "outputs": [],
   "source": [
    "from google.colab import drive\n",
    "drive.mount(\"/content/drive\",force_remount=True)"
   ]
  },
  {
   "cell_type": "code",
   "execution_count": null,
   "metadata": {
    "id": "9fa2e5c8-71f6-4a0f-88ce-5566ee19c8c2",
    "tags": []
   },
   "outputs": [],
   "source": [
    "data_dir=\"dataset\""
   ]
  },
  {
   "cell_type": "code",
   "execution_count": null,
   "metadata": {
    "id": "NcM1AaSw5pTx",
    "tags": []
   },
   "outputs": [],
   "source": [
    "classes=[\"bio\",\"cardboard\",\"e-waste\",\"glass\",\"metal\",\"paper\",\"plastics\",\"trash\"]"
   ]
  },
  {
   "cell_type": "code",
   "execution_count": null,
   "metadata": {
    "colab": {
     "base_uri": "https://localhost:8080/"
    },
    "executionInfo": {
     "elapsed": 10118,
     "status": "ok",
     "timestamp": 1694082811579,
     "user": {
      "displayName": "21COB201 Gufran Ahmad",
      "userId": "06071933514359035626"
     },
     "user_tz": -330
    },
    "id": "b6a3e507-ba1d-4f83-b2c7-bcf9fb2e49a2",
    "outputId": "fbd60d01-bac8-4d62-c9b5-fc5a0db63665",
    "tags": []
   },
   "outputs": [],
   "source": [
    "os.listdir(os.path.join(data_dir,\"cardboard\"))[0:5]"
   ]
  },
  {
   "cell_type": "code",
   "execution_count": null,
   "metadata": {
    "id": "32ab9b02-c294-4f5d-9ac3-ec9363adce4e",
    "tags": []
   },
   "outputs": [],
   "source": [
    "import cv2\n",
    "import imghdr\n",
    "from matplotlib import pyplot as plt"
   ]
  },
  {
   "cell_type": "code",
   "execution_count": null,
   "metadata": {
    "id": "fbfc54c3-e9d0-4dc5-8377-7c9b75a99ac4"
   },
   "outputs": [],
   "source": [
    "img_ext=['jpeg','jpg','png']\n"
   ]
  },
  {
   "cell_type": "code",
   "execution_count": null,
   "metadata": {
    "id": "b96b0a6b-a534-4581-8e11-4dc70b7d1258"
   },
   "outputs": [],
   "source": [
    "for img_class in os.listdir(data_dir):\n",
    "    for image in os.listdir(os.path.join(data_dir,img_class)):\n",
    "        img_path=os.path.join(data_dir,img_class,image)\n",
    "        try:\n",
    "            img=cv2.imread(img_path)\n",
    "            ext=imghdr.what(img_path)\n",
    "            if ext not in img_ext:\n",
    "                print(\"image is not in ext list {}\".format(img_path))\n",
    "                os.remove(img_path)\n",
    "        except Exception as e:\n",
    "                      print(\"issue with image{}\".format(e))"
   ]
  },
  {
   "cell_type": "code",
   "execution_count": null,
   "metadata": {
    "id": "4f472fee-3d2d-4438-88fc-0c0a6beddfc6",
    "tags": []
   },
   "outputs": [],
   "source": [
    "import numpy as np"
   ]
  },
  {
   "cell_type": "code",
   "execution_count": null,
   "metadata": {
    "colab": {
     "base_uri": "https://localhost:8080/"
    },
    "executionInfo": {
     "elapsed": 66327,
     "status": "ok",
     "timestamp": 1694204053058,
     "user": {
      "displayName": "21COB201 Gufran Ahmad",
      "userId": "06071933514359035626"
     },
     "user_tz": -330
    },
    "id": "bc02d8b4-ef24-487c-b28d-e1fdb95ccc0b",
    "outputId": "84b91beb-148c-41bf-8a8c-b71bcde9b0a5",
    "tags": []
   },
   "outputs": [],
   "source": [
    "data=tf.keras.utils.image_dataset_from_directory(data_dir,batch_size=20)"
   ]
  },
  {
   "cell_type": "code",
   "execution_count": null,
   "metadata": {
    "colab": {
     "base_uri": "https://localhost:8080/"
    },
    "executionInfo": {
     "elapsed": 435,
     "status": "ok",
     "timestamp": 1694204067352,
     "user": {
      "displayName": "21COB201 Gufran Ahmad",
      "userId": "06071933514359035626"
     },
     "user_tz": -330
    },
    "id": "390fb294-0ce5-47dc-976f-100608bc0bc8",
    "outputId": "65f0ae7c-9768-4bb1-c2a9-681c99eb11f9",
    "tags": []
   },
   "outputs": [],
   "source": [
    "\n",
    "len(data)"
   ]
  },
  {
   "cell_type": "code",
   "execution_count": null,
   "metadata": {
    "id": "30e62d61-1c32-4c02-a4df-3c4fe951868e",
    "tags": []
   },
   "outputs": [],
   "source": [
    "data=data.map(lambda x,y:(x/255,y))"
   ]
  },
  {
   "cell_type": "code",
   "execution_count": null,
   "metadata": {
    "id": "a2546495-3620-437d-a33a-725df0499b24",
    "tags": []
   },
   "outputs": [],
   "source": [
    "data_iterator=data.as_numpy_iterator()"
   ]
  },
  {
   "cell_type": "code",
   "execution_count": null,
   "metadata": {
    "id": "27b3e7b1-3657-4a63-9dc7-f395bbad30af",
    "tags": []
   },
   "outputs": [],
   "source": [
    "batch=data_iterator.next()"
   ]
  },
  {
   "cell_type": "code",
   "execution_count": null,
   "metadata": {
    "colab": {
     "base_uri": "https://localhost:8080/"
    },
    "executionInfo": {
     "elapsed": 26,
     "status": "ok",
     "timestamp": 1694204116737,
     "user": {
      "displayName": "21COB201 Gufran Ahmad",
      "userId": "06071933514359035626"
     },
     "user_tz": -330
    },
    "id": "63c5b2d4-1a14-42d7-930a-6a769fd6a828",
    "outputId": "dabc4ae3-4f55-4ff5-da2e-769798596a76",
    "tags": []
   },
   "outputs": [],
   "source": [
    "len(batch)"
   ]
  },
  {
   "cell_type": "code",
   "execution_count": null,
   "metadata": {
    "colab": {
     "base_uri": "https://localhost:8080/"
    },
    "executionInfo": {
     "elapsed": 24,
     "status": "ok",
     "timestamp": 1694204116738,
     "user": {
      "displayName": "21COB201 Gufran Ahmad",
      "userId": "06071933514359035626"
     },
     "user_tz": -330
    },
    "id": "fc213a61-1ee6-4d1d-aa43-6cb0eec655dc",
    "outputId": "311e764e-1f44-47de-be55-92bfd10a75de",
    "tags": []
   },
   "outputs": [],
   "source": [
    "batch[0]"
   ]
  },
  {
   "cell_type": "code",
   "execution_count": null,
   "metadata": {
    "colab": {
     "base_uri": "https://localhost:8080/"
    },
    "executionInfo": {
     "elapsed": 19,
     "status": "ok",
     "timestamp": 1694204116738,
     "user": {
      "displayName": "21COB201 Gufran Ahmad",
      "userId": "06071933514359035626"
     },
     "user_tz": -330
    },
    "id": "304d497f-ff50-494c-a02b-4c47be804261",
    "outputId": "24bbb173-4383-43c7-915a-a74080a62277",
    "tags": []
   },
   "outputs": [],
   "source": [
    "batch[0].shape"
   ]
  },
  {
   "cell_type": "code",
   "execution_count": null,
   "metadata": {
    "colab": {
     "base_uri": "https://localhost:8080/"
    },
    "executionInfo": {
     "elapsed": 11,
     "status": "ok",
     "timestamp": 1694204116738,
     "user": {
      "displayName": "21COB201 Gufran Ahmad",
      "userId": "06071933514359035626"
     },
     "user_tz": -330
    },
    "id": "693cf16e-f159-427d-9b86-7d694ad8e629",
    "outputId": "09fa4031-f4d3-4010-a7e5-386ed3834c9c",
    "tags": []
   },
   "outputs": [],
   "source": [
    "batch[1]"
   ]
  },
  {
   "cell_type": "code",
   "execution_count": null,
   "metadata": {
    "id": "8408087e-bba8-40fc-82e9-f51e01d53ccd",
    "outputId": "5241b284-9c9e-4c96-87d8-08b90f80ade4",
    "tags": []
   },
   "outputs": [],
   "source": [
    "fig,ax=plt.subplots(ncols=5,nrows=2,figsize=(20,10))\n",
    "fig.subplots_adjust(hspace=0)\n",
    "for idx,img in enumerate(batch[0][:10]):\n",
    "                         ax[idx//5][idx%5].imshow(img)\n",
    "                         ax[idx//5][idx%5].set_title(batch[1][idx])\n"
   ]
  },
  {
   "cell_type": "code",
   "execution_count": null,
   "metadata": {
    "id": "Ky8-bkuNJCx1"
   },
   "outputs": [],
   "source": []
  },
  {
   "cell_type": "code",
   "execution_count": null,
   "metadata": {
    "id": "f1a5f8ae-934d-4e71-bd41-f9e2a02316b9",
    "tags": []
   },
   "outputs": [],
   "source": [
    "train_size=int(len(data)*0.7)\n",
    "val_size=int(len(data)*0.2)+1\n",
    "test_size=int(len(data)*0.1)+1"
   ]
  },
  {
   "cell_type": "code",
   "execution_count": null,
   "metadata": {
    "id": "287c740e-7f5c-484d-9787-bfda966a54a3",
    "tags": []
   },
   "outputs": [],
   "source": [
    "train_data=data.take(train_size)\n",
    "val_data=data.skip(train_size).take(val_size)\n",
    "test_data=data.skip(train_size+val_size).take(test_size)"
   ]
  },
  {
   "cell_type": "code",
   "execution_count": null,
   "metadata": {
    "id": "c23f518f-5f88-46d7-bdd9-1fe6c8d47848",
    "tags": []
   },
   "outputs": [],
   "source": []
  },
  {
   "cell_type": "code",
   "execution_count": null,
   "metadata": {
    "id": "7dbfb3bb-0431-4748-8848-d7bd94278681",
    "tags": []
   },
   "outputs": [],
   "source": [
    "from tensorflow.keras.models import Sequential\n",
    "from tensorflow.keras.layers import Conv2D,MaxPooling2D, Dense,Flatten,BatchNormalization,Dropout"
   ]
  },
  {
   "cell_type": "code",
   "execution_count": null,
   "metadata": {
    "colab": {
     "base_uri": "https://localhost:8080/"
    },
    "executionInfo": {
     "elapsed": 9872,
     "status": "ok",
     "timestamp": 1694204165586,
     "user": {
      "displayName": "21COB201 Gufran Ahmad",
      "userId": "06071933514359035626"
     },
     "user_tz": -330
    },
    "id": "f5b80fa7-3493-495a-b8de-fc2e2b077ad0",
    "outputId": "94bb898b-002a-4574-e9ab-29720f46cc47",
    "tags": []
   },
   "outputs": [],
   "source": [
    "!pip install keras-tuner"
   ]
  },
  {
   "cell_type": "code",
   "execution_count": null,
   "metadata": {
    "id": "7351e570-6906-4c4d-af0f-699184da982a",
    "tags": []
   },
   "outputs": [],
   "source": [
    "model=Sequential()"
   ]
  },
  {
   "cell_type": "code",
   "execution_count": null,
   "metadata": {
    "id": "2471521c-4251-484e-bb35-10566d5dca0b"
   },
   "outputs": [],
   "source": []
  },
  {
   "cell_type": "code",
   "execution_count": null,
   "metadata": {
    "id": "a33cac61-856b-4a4c-8e83-8fd58f32a568",
    "tags": []
   },
   "outputs": [],
   "source": [
    "def build_model(hp):\n",
    "    model=Sequential()\n",
    "    model.add(Conv2D(filters=hp.Int('conv_1_filter',min_value=32,max_value=128,step=16),kernel_size=hp.Choice('conv_1_kernel',values=[3,5]),activation=\"relu\",input_shape=(256,256,3)))\n",
    "\n",
    "    model.add(MaxPooling2D())\n",
    "    model.add(Dropout(0.2))\n",
    "    model.add(Conv2D(filters=hp.Int('conv_2_filter',min_value=32,max_value=64,step=16),kernel_size=hp.Choice('conv_2_kernel',values=[3,5]),activation=\"relu\",kernel_regularizer=tf.keras.regularizers.l2(0.05)))\n",
    "\n",
    "    model.add(MaxPooling2D())\n",
    "    model.add(Dropout(0.2))\n",
    "\n",
    "    model.add(Conv2D(filters=hp.Int('conv_3_filter',min_value=32,max_value=64,step=16),kernel_size=hp.Choice('conv_3_kernel',values=[3,5]),activation=\"relu\"))\n",
    "    model.add(MaxPooling2D())\n",
    "    model.add(Dropout(0.1))\n",
    "\n",
    "    model.add(Flatten())\n",
    "    model.add(Dense(units=hp.Int('dense_1_units',min_value=32,max_value=128,step=16),activation=\"relu\",kernel_regularizer=tf.keras.regularizers.l2(0.03)))\n",
    "    model.add(Dropout(0.1))\n",
    "    model.add(Dense(8,activation=\"softmax\"))\n",
    "    model.compile(optimizer=tf.keras.optimizers.SGD(hp.Choice(\"learning_rate\",values=[1e-2,1e-3])),loss=\"sparse_categorical_crossentropy\",metrics=[\"accuracy\"])\n",
    "    return model"
   ]
  },
  {
   "cell_type": "code",
   "execution_count": null,
   "metadata": {
    "id": "bbade877-46b2-4257-9dda-5dc9f5e57ca5",
    "tags": []
   },
   "outputs": [],
   "source": [
    "from kerastuner import RandomSearch\n",
    "from keras_tuner.engine.hyperparameters import HyperParameters\n",
    "\n"
   ]
  },
  {
   "cell_type": "code",
   "execution_count": null,
   "metadata": {
    "id": "59723607-c8d0-423f-b92b-4ec6ad0adda7",
    "tags": []
   },
   "outputs": [],
   "source": [
    "tunner_search=RandomSearch(build_model,objective='val_accuracy',max_trials=5,directory=\"output\",project_name=\"wasteClassifier\")"
   ]
  },
  {
   "cell_type": "code",
   "execution_count": null,
   "metadata": {
    "id": "I1DbU6aWT6Az"
   },
   "outputs": [],
   "source": []
  },
  {
   "cell_type": "code",
   "execution_count": null,
   "metadata": {
    "colab": {
     "base_uri": "https://localhost:8080/"
    },
    "id": "d1ce6938-f933-4d8d-addb-df6cddecdf15",
    "outputId": "f193e794-d892-4e57-978e-45964a44e657",
    "tags": []
   },
   "outputs": [],
   "source": [
    "tunner_search.search(train_data,epochs=3,validation_data=val_data)"
   ]
  },
  {
   "cell_type": "code",
   "execution_count": null,
   "metadata": {
    "id": "52997db6-0bbd-4512-aaec-3774e7e21a8a",
    "tags": []
   },
   "outputs": [],
   "source": [
    "model=tunner_search.get_best_models(num_models=1)[0]"
   ]
  },
  {
   "cell_type": "code",
   "execution_count": null,
   "metadata": {
    "id": "cf814b0e-cc5a-4246-8864-52857c4be43c",
    "outputId": "c2c0e4cb-868a-4d64-be96-01cce98d6ddb",
    "tags": []
   },
   "outputs": [],
   "source": [
    "model.summary()"
   ]
  },
  {
   "cell_type": "code",
   "execution_count": null,
   "metadata": {
    "colab": {
     "base_uri": "https://localhost:8080/"
    },
    "executionInfo": {
     "elapsed": 4707,
     "status": "ok",
     "timestamp": 1694799471508,
     "user": {
      "displayName": "Gufran Ahmad",
      "userId": "01837238252185528916"
     },
     "user_tz": -330
    },
    "id": "574b525b-21f5-453c-bd7d-be04f1d6ae70",
    "outputId": "b6fd8c68-9021-4a3b-937a-83569814e605",
    "tags": []
   },
   "outputs": [],
   "source": [
    "!pip install pydot pydotplus graphviz"
   ]
  },
  {
   "cell_type": "code",
   "execution_count": null,
   "metadata": {
    "colab": {
     "base_uri": "https://localhost:8080/",
     "height": 193
    },
    "executionInfo": {
     "elapsed": 4,
     "status": "error",
     "timestamp": 1694799476891,
     "user": {
      "displayName": "Gufran Ahmad",
      "userId": "01837238252185528916"
     },
     "user_tz": -330
    },
    "id": "72c37ee3-1c57-461b-8eab-564b5a90637a",
    "outputId": "3c5c16e8-8c36-4bac-e21c-82972241edf4",
    "tags": []
   },
   "outputs": [],
   "source": [
    "from tensorflow.keras.utils import plot_model\n",
    "plot_model(model)"
   ]
  },
  {
   "cell_type": "code",
   "execution_count": null,
   "metadata": {
    "id": "3a85ffd6-f443-4707-9662-ca49a14c23e7",
    "tags": []
   },
   "outputs": [],
   "source": [
    "tensorboard_callback=tf.keras.callbacks.TensorBoard(log_dir='logs')"
   ]
  },
  {
   "cell_type": "code",
   "execution_count": null,
   "metadata": {
    "id": "113a70fd-1857-4fd6-908b-5acf823c73b7",
    "outputId": "0c5cfbee-260c-4827-ba86-52d066da8a5a",
    "tags": []
   },
   "outputs": [],
   "source": [
    "result=model.fit(train_data,validation_data=val_data,epochs=50,initial_epoch=3,callbacks=tensorboard_callback)"
   ]
  },
  {
   "cell_type": "code",
   "execution_count": null,
   "metadata": {
    "id": "a76a7782-36e4-4d30-8597-09e73137e723",
    "outputId": "a2566c3a-9e0a-4d76-af9b-2ad22473e048",
    "tags": []
   },
   "outputs": [],
   "source": [
    "result.history"
   ]
  },
  {
   "cell_type": "code",
   "execution_count": null,
   "metadata": {
    "id": "2919b38d-21e0-4d51-9bf4-5339576d7979",
    "outputId": "85cf2ba4-2a70-4865-bb2c-12550c0bc607",
    "tags": []
   },
   "outputs": [],
   "source": [
    "plt.plot(result.history['loss'], color='teal', label='loss')\n",
    "plt.plot(result.history['val_loss'], color='orange', label='val_loss')\n",
    "fig.suptitle('Loss', fontsize=20)\n",
    "plt.legend(loc=\"upper left\")\n",
    "plt.show()"
   ]
  },
  {
   "cell_type": "code",
   "execution_count": null,
   "metadata": {
    "id": "73f3144a-ab37-400c-b81d-16ffd56e2d49",
    "outputId": "13f6e1f0-4ce5-4db7-9f0b-291c2e6bc35c",
    "tags": []
   },
   "outputs": [],
   "source": [
    "plt.plot(result.history['accuracy'], color='teal', label='accuracy')\n",
    "plt.plot(result.history['val_accuracy'], color='orange', label='val_accuracy')\n",
    "fig.suptitle('Accuracy', fontsize=20)\n",
    "plt.legend(loc=\"upper left\")\n",
    "plt.show()"
   ]
  },
  {
   "cell_type": "code",
   "execution_count": null,
   "metadata": {
    "id": "6c0b08bf-bf46-46a1-be4d-536d244ae3ae",
    "outputId": "c5da4020-ec4e-4ce9-bcf2-76444b8c5e0d",
    "tags": []
   },
   "outputs": [],
   "source": [
    "for batch in test_data.as_numpy_iterator():\n",
    "    X, y = batch\n",
    "    yhat = model.predict(X)\n",
    "    yhat=np.array(list(map(lambda x: np.argmax(x),yhat)))\n",
    "\n"
   ]
  },
  {
   "cell_type": "code",
   "execution_count": null,
   "metadata": {
    "id": "00150c29-de93-47c6-8544-58f9f7c463ea",
    "outputId": "189d1d3b-65bf-4b1d-b172-b9ef4cc5a753",
    "tags": []
   },
   "outputs": [],
   "source": [
    "model.evaluate(test_data)"
   ]
  },
  {
   "cell_type": "code",
   "execution_count": null,
   "metadata": {
    "id": "e908101b-a43c-4526-abcb-4dab9ad7506a",
    "tags": []
   },
   "outputs": [],
   "source": []
  },
  {
   "cell_type": "code",
   "execution_count": null,
   "metadata": {
    "colab": {
     "base_uri": "https://localhost:8080/",
     "height": 175
    },
    "executionInfo": {
     "elapsed": 11,
     "status": "error",
     "timestamp": 1694846074491,
     "user": {
      "displayName": "Gufran Ahmad",
      "userId": "01837238252185528916"
     },
     "user_tz": -330
    },
    "id": "7b6c6e60-7e47-4768-82c2-86f7167cbed9",
    "outputId": "e784fe2d-6492-4db6-bd05-a53d876f2adb",
    "tags": []
   },
   "outputs": [],
   "source": [
    "image=cv2.imread(\"download (1).jpg\")"
   ]
  },
  {
   "cell_type": "code",
   "execution_count": null,
   "metadata": {
    "colab": {
     "base_uri": "https://localhost:8080/",
     "height": 175
    },
    "executionInfo": {
     "elapsed": 16,
     "status": "error",
     "timestamp": 1694846076072,
     "user": {
      "displayName": "Gufran Ahmad",
      "userId": "01837238252185528916"
     },
     "user_tz": -330
    },
    "id": "AZr2fVA05pT6",
    "outputId": "9763c644-7796-4bb1-c0f9-d0710bc9ff0b",
    "tags": []
   },
   "outputs": [],
   "source": [
    "img=cv2.cvtColor(image,cv2.COLOR_BGR2RGB)"
   ]
  },
  {
   "cell_type": "code",
   "execution_count": null,
   "metadata": {
    "id": "ud-6DF3Ap_us",
    "outputId": "2933a934-abfe-438f-fa48-e606de81f7e1",
    "tags": []
   },
   "outputs": [],
   "source": [
    " plt.imshow(img)"
   ]
  },
  {
   "cell_type": "code",
   "execution_count": null,
   "metadata": {
    "id": "2d84e34a-1849-41b4-b36d-dac5ee11b19a",
    "outputId": "2ba77597-47f8-4eda-c4da-fff66439b2f5",
    "tags": []
   },
   "outputs": [],
   "source": [
    "resize_img=tf.image.resize(img,(256,256))\n",
    "plt.imshow(resize_img.numpy().astype(int))"
   ]
  },
  {
   "cell_type": "code",
   "execution_count": null,
   "metadata": {
    "id": "ac6f33ea-c4b9-4e4d-9452-40c2571fd9ae",
    "outputId": "bfab5030-6324-4b11-dd5e-956b4483f5da",
    "tags": []
   },
   "outputs": [],
   "source": [
    "yhat=model.predict(np.expand_dims(resize_img/255,0))"
   ]
  },
  {
   "cell_type": "code",
   "execution_count": null,
   "metadata": {
    "id": "RKW7Ozt-5pT7",
    "outputId": "7178df11-1587-41f0-e94f-28158daa220e",
    "tags": []
   },
   "outputs": [],
   "source": [
    "classes[np.argmax(yhat)]"
   ]
  },
  {
   "cell_type": "code",
   "execution_count": null,
   "metadata": {
    "id": "a8fb23c3-3448-4176-bac4-f8d7b9586ef5",
    "tags": []
   },
   "outputs": [],
   "source": [
    "from keras.models import load_model"
   ]
  },
  {
   "cell_type": "code",
   "execution_count": null,
   "metadata": {
    "id": "NW2nLVF6hHul"
   },
   "outputs": [],
   "source": [
    "model.save(os.path.join('models','imageclassifier.h5'))"
   ]
  },
  {
   "cell_type": "code",
   "execution_count": null,
   "metadata": {
    "id": "LOp04yZZ5pT7",
    "tags": []
   },
   "outputs": [],
   "source": [
    "model_json = model.to_json()\n",
    "with open(\"models/model.json\", \"w\") as json_file:\n",
    "    json_file.write(model_json)\n",
    "\n",
    "\n"
   ]
  },
  {
   "cell_type": "code",
   "execution_count": null,
   "metadata": {
    "id": "TVPMQzFrC_VW",
    "tags": []
   },
   "outputs": [],
   "source": [
    "new_model = load_model(os.path.join('models','imageclassifier.h5'))"
   ]
  },
  {
   "cell_type": "code",
   "execution_count": null,
   "metadata": {
    "id": "K5ghA-JN5pT8",
    "outputId": "42793455-71d8-4cff-ac70-1d5215510174",
    "tags": []
   },
   "outputs": [],
   "source": [
    "yhat=new_model.predict(np.expand_dims(resize_img/255,0))"
   ]
  },
  {
   "cell_type": "code",
   "execution_count": null,
   "metadata": {
    "id": "Bl0toyUI5pT9",
    "outputId": "c7a1be61-eac7-4966-9bd0-435c74ee7416",
    "tags": []
   },
   "outputs": [],
   "source": [
    "classes[np.argmax(yhat)]"
   ]
  },
  {
   "cell_type": "code",
   "execution_count": null,
   "metadata": {
    "id": "DFmGewlasbna"
   },
   "outputs": [],
   "source": []
  },
  {
   "cell_type": "code",
   "execution_count": null,
   "metadata": {
    "id": "sp6OVMhN5pT9"
   },
   "outputs": [],
   "source": []
  },
  {
   "cell_type": "code",
   "execution_count": null,
   "metadata": {
    "colab": {
     "base_uri": "https://localhost:8080/",
     "height": 175
    },
    "executionInfo": {
     "elapsed": 615,
     "status": "error",
     "timestamp": 1694846050249,
     "user": {
      "displayName": "Gufran Ahmad",
      "userId": "01837238252185528916"
     },
     "user_tz": -330
    },
    "id": "TlmqtVos5pT9",
    "outputId": "fe50d72a-42ce-45f0-b6dc-ea8be299aa85"
   },
   "outputs": [],
   "source": []
  },
  {
   "cell_type": "code",
   "execution_count": null,
   "metadata": {
    "id": "Jois8VZs5pT9"
   },
   "outputs": [],
   "source": []
  },
  {
   "cell_type": "code",
   "execution_count": null,
   "metadata": {
    "id": "HHRxiMjV5pT9"
   },
   "outputs": [],
   "source": []
  },
  {
   "cell_type": "code",
   "execution_count": null,
   "metadata": {
    "id": "_PGFCbH8_Cc8"
   },
   "outputs": [],
   "source": []
  }
 ],
 "metadata": {
  "accelerator": "GPU",
  "colab": {
   "gpuType": "T4",
   "provenance": []
  },
  "kernelspec": {
   "display_name": "imageClassification",
   "language": "python",
   "name": "imageclassification"
  },
  "language_info": {
   "codemirror_mode": {
    "name": "ipython",
    "version": 3
   },
   "file_extension": ".py",
   "mimetype": "text/x-python",
   "name": "python",
   "nbconvert_exporter": "python",
   "pygments_lexer": "ipython3",
   "version": "3.10.4"
  }
 },
 "nbformat": 4,
 "nbformat_minor": 4
}
